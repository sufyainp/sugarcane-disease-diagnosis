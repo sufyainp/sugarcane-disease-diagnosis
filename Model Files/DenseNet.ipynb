{
  "nbformat": 4,
  "nbformat_minor": 0,
  "metadata": {
    "colab": {
      "provenance": []
    },
    "kernelspec": {
      "name": "python3",
      "display_name": "Python 3"
    },
    "language_info": {
      "name": "python"
    }
  },
  "cells": [
    {
      "cell_type": "code",
      "execution_count": null,
      "metadata": {
        "colab": {
          "base_uri": "https://localhost:8080/"
        },
        "id": "5azXsFHPK0Io",
        "outputId": "40e4279b-06b5-418c-ed42-61829c647092"
      },
      "outputs": [
        {
          "output_type": "stream",
          "name": "stdout",
          "text": [
            "Looking in indexes: https://pypi.org/simple, https://us-python.pkg.dev/colab-wheels/public/simple/\n",
            "Collecting split_folders\n",
            "  Downloading split_folders-0.5.1-py3-none-any.whl (8.4 kB)\n",
            "Installing collected packages: split_folders\n",
            "Successfully installed split_folders-0.5.1\n"
          ]
        }
      ],
      "source": [
        "pip install split_folders"
      ]
    },
    {
      "cell_type": "code",
      "source": [
        "import splitfolders"
      ],
      "metadata": {
        "id": "qm2IU_sNLAnI"
      },
      "execution_count": null,
      "outputs": []
    },
    {
      "cell_type": "code",
      "source": [
        "from google.colab import drive\n",
        "drive.mount('/content/drive')"
      ],
      "metadata": {
        "colab": {
          "base_uri": "https://localhost:8080/"
        },
        "id": "S2TiHKr3LApP",
        "outputId": "2429e1ea-471e-44f3-df6f-379149da38e6"
      },
      "execution_count": null,
      "outputs": [
        {
          "output_type": "stream",
          "name": "stdout",
          "text": [
            "Mounted at /content/drive\n"
          ]
        }
      ]
    },
    {
      "cell_type": "code",
      "source": [
        "input_folder=\"/content/drive/MyDrive/dummy_sugarcane\"\n",
        "output=\"/content/final\"\n",
        "splitfolders.ratio(input_folder,output,seed=42,ratio=(.8,.1,.1))"
      ],
      "metadata": {
        "colab": {
          "base_uri": "https://localhost:8080/"
        },
        "id": "H6JEmYOQLArm",
        "outputId": "bc1f94e4-32ad-43a6-d1ac-f2c286558b31"
      },
      "execution_count": null,
      "outputs": [
        {
          "output_type": "stream",
          "name": "stderr",
          "text": [
            "Copying files: 1500 files [00:16, 92.55 files/s] \n"
          ]
        }
      ]
    },
    {
      "cell_type": "code",
      "source": [
        "import tensorflow as tf\n",
        "from tensorflow.keras.layers import Conv2D,Flatten,Dense,MaxPool2D,BatchNormalization,GlobalAveragePooling2D\n",
        "from tensorflow.keras.applications.resnet50 import preprocess_input,decode_predictions\n",
        "from tensorflow.keras.preprocessing.image import ImageDataGenerator,load_img\n",
        "from tensorflow.keras.applications.resnet50 import ResNet50\n",
        "from tensorflow.keras.preprocessing import image\n",
        "from tensorflow.keras.models import Sequential\n",
        "from tensorflow.keras.models import Model\n",
        "import matplotlib.pyplot as plt\n",
        "import numpy as np"
      ],
      "metadata": {
        "id": "KCXNZMbILAtx"
      },
      "execution_count": null,
      "outputs": []
    },
    {
      "cell_type": "code",
      "source": [
        "img_height,img_width=224,224\n",
        "batch_size=32\n",
        "train='/content/final/val'\n",
        "valid='/content/final/train'\n",
        "test='/content/final/test'"
      ],
      "metadata": {
        "id": "EUTOqetpLAvz"
      },
      "execution_count": null,
      "outputs": []
    },
    {
      "cell_type": "code",
      "source": [
        "train_ds=tf.keras.preprocessing.image_dataset_from_directory(\n",
        "    input_folder,\n",
        "    validation_split=0.2,\n",
        "    subset='training',\n",
        "    seed=123,\n",
        "    label_mode='categorical',\n",
        "    image_size=(img_height,img_width),\n",
        "    batch_size=batch_size\n",
        ")"
      ],
      "metadata": {
        "colab": {
          "base_uri": "https://localhost:8080/"
        },
        "id": "Vke7YUhfNRwl",
        "outputId": "ba20614e-302d-4a68-a88c-69d624a8bb88"
      },
      "execution_count": null,
      "outputs": [
        {
          "output_type": "stream",
          "name": "stdout",
          "text": [
            "Found 1500 files belonging to 4 classes.\n",
            "Using 1200 files for training.\n"
          ]
        }
      ]
    },
    {
      "cell_type": "code",
      "source": [
        "val_ds=tf.keras.preprocessing.image_dataset_from_directory(\n",
        "    input_folder,\n",
        "    validation_split=0.2,\n",
        "    subset='validation',\n",
        "    seed=123,\n",
        "    label_mode='categorical',\n",
        "    image_size=(img_height,img_width),\n",
        "    batch_size=batch_size\n",
        ")"
      ],
      "metadata": {
        "colab": {
          "base_uri": "https://localhost:8080/"
        },
        "id": "LkVBCb5JNRh1",
        "outputId": "d43228fd-6012-417d-b643-e20a2baae6b6"
      },
      "execution_count": null,
      "outputs": [
        {
          "output_type": "stream",
          "name": "stdout",
          "text": [
            "Found 1500 files belonging to 4 classes.\n",
            "Using 300 files for validation.\n"
          ]
        }
      ]
    },
    {
      "cell_type": "code",
      "source": [
        "from tensorflow.keras.regularizers import l2"
      ],
      "metadata": {
        "id": "kMVAbGBfNReX"
      },
      "execution_count": null,
      "outputs": []
    },
    {
      "cell_type": "code",
      "source": [
        "from keras.applications.densenet import DenseNet201\n",
        "from tensorflow.keras.models import Sequential,Model\n",
        "from tensorflow.keras.layers import Dense ,Dropout\n",
        "from keras.layers import Input\n",
        "     \n",
        "\n",
        "base_model = DenseNet201(include_top=False,\n",
        "                         input_shape=(224,224,3),\n",
        "                         weights='imagenet',\n",
        "                         pooling=\"avg\"\n",
        "                     )"
      ],
      "metadata": {
        "colab": {
          "base_uri": "https://localhost:8080/"
        },
        "id": "gmHnEmaiLAxo",
        "outputId": "6b921e41-48d5-47d9-a8c9-4949791461e3"
      },
      "execution_count": null,
      "outputs": [
        {
          "output_type": "stream",
          "name": "stdout",
          "text": [
            "Downloading data from https://storage.googleapis.com/tensorflow/keras-applications/densenet/densenet201_weights_tf_dim_ordering_tf_kernels_notop.h5\n",
            "74836368/74836368 [==============================] - 0s 0us/step\n"
          ]
        }
      ]
    },
    {
      "cell_type": "code",
      "source": [
        "base_model.trainable = False \n",
        "image_input = Input(shape=(224, 224, 3))\n",
        "\n",
        "x = base_model(image_input,training = False)\n",
        "\n",
        "x = Dense(256,activation = \"relu\")(x)\n",
        "x = Dropout(0.2)(x)\n",
        "\n",
        "x = Dense(128,activation = \"relu\")(x)\n",
        "x = Dropout(0.2)(x)\n",
        "\n",
        "image_output = Dense(4,kernel_regularizer=l2(0.01),activation=\"softmax\")(x) #output layer\n",
        "#kernel Regulariser- SVM\n",
        "\n",
        "model = Model(image_input,image_output)\n",
        "model.compile(optimizer=\"adam\",loss=\"squared_hinge\",metrics=[\"accuracy\"])"
      ],
      "metadata": {
        "id": "3pbLk0WPLAz4"
      },
      "execution_count": null,
      "outputs": []
    },
    {
      "cell_type": "code",
      "source": [
        "from tensorflow.keras.utils import plot_model\n",
        "plot_model(base_model, to_file = 'Densenet.png', show_shapes = True, show_layer_names = True)"
      ],
      "metadata": {
        "id": "MdLDRptFLA11"
      },
      "execution_count": null,
      "outputs": []
    },
    {
      "cell_type": "code",
      "source": [
        "epochs=5\n",
        "history=model.fit(\n",
        "  train_ds,\n",
        "  validation_data=val_ds,\n",
        "  epochs=epochs\n",
        ")"
      ],
      "metadata": {
        "colab": {
          "base_uri": "https://localhost:8080/"
        },
        "id": "suT-5lm3LA35",
        "outputId": "da6facd5-2527-4809-94ad-b8fbf314ece8"
      },
      "execution_count": null,
      "outputs": [
        {
          "output_type": "stream",
          "name": "stdout",
          "text": [
            "Epoch 1/5\n",
            "38/38 [==============================] - 252s 6s/step - loss: 1.2251 - accuracy: 0.5758 - val_loss: 1.0679 - val_accuracy: 0.7267\n",
            "Epoch 2/5\n",
            "38/38 [==============================] - 275s 7s/step - loss: 1.0833 - accuracy: 0.7167 - val_loss: 1.0166 - val_accuracy: 0.7833\n",
            "Epoch 3/5\n",
            "38/38 [==============================] - 276s 7s/step - loss: 1.0474 - accuracy: 0.7500 - val_loss: 0.9857 - val_accuracy: 0.8100\n",
            "Epoch 4/5\n",
            "38/38 [==============================] - 243s 6s/step - loss: 1.0049 - accuracy: 0.7900 - val_loss: 0.9707 - val_accuracy: 0.8300\n",
            "Epoch 5/5\n",
            "38/38 [==============================] - 246s 7s/step - loss: 1.0170 - accuracy: 0.7717 - val_loss: 0.9891 - val_accuracy: 0.7900\n"
          ]
        }
      ]
    },
    {
      "cell_type": "code",
      "source": [
        "fig1 = plt.gcf()\n",
        "plt.plot(history.history['accuracy'])\n",
        "plt.plot(history.history['val_accuracy'])\n",
        "plt.axis(ymin=0.4,ymax=1)\n",
        "plt.grid()\n",
        "plt.title('Model Accuracy')\n",
        "plt.ylabel('Accuracy')\n",
        "plt.xlabel('Epochs')\n",
        "plt.legend(['train', 'validation'])\n",
        "plt.show()"
      ],
      "metadata": {
        "colab": {
          "base_uri": "https://localhost:8080/",
          "height": 472
        },
        "id": "edsNfnxGLA6X",
        "outputId": "6cf60cca-b308-47a2-92aa-1afc19645241"
      },
      "execution_count": null,
      "outputs": [
        {
          "output_type": "display_data",
          "data": {
            "text/plain": [
              "<Figure size 640x480 with 1 Axes>"
            ],
            "image/png": "[encoded data removed]"
          },
          "metadata": {}
        }
      ]
    },
    {
      "cell_type": "code",
      "source": [],
      "metadata": {
        "id": "I-E2nJk7LA8c"
      },
      "execution_count": null,
      "outputs": []
    },
    {
      "cell_type": "code",
      "source": [],
      "metadata": {
        "id": "tc_sfK6gLA-8"
      },
      "execution_count": null,
      "outputs": []
    },
    {
      "cell_type": "code",
      "source": [],
      "metadata": {
        "id": "7_FTQLw2LBBe"
      },
      "execution_count": null,
      "outputs": []
    },
    {
      "cell_type": "code",
      "source": [],
      "metadata": {
        "id": "gpr40_csLBDn"
      },
      "execution_count": null,
      "outputs": []
    },
    {
      "cell_type": "code",
      "source": [],
      "metadata": {
        "id": "KxPyhR6OLBHL"
      },
      "execution_count": null,
      "outputs": []
    }
  ]
}